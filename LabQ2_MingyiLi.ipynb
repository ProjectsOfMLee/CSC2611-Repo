{
 "cells": [
  {
   "cell_type": "code",
   "execution_count": 2,
   "id": "c7c9679e-6817-4d2a-b439-586365018a15",
   "metadata": {},
   "outputs": [],
   "source": [
    "import numpy as np\n",
    "import pandas as pd\n",
    "import pickle\n",
    "import nltk\n",
    "# from nltk.corpus import brown, stopwords\n",
    "# from string import punctuation, ascii_lowercase\n",
    "# from gensim.models import KeyedVectors\n",
    "# from sklearn.decomposition import PCA,TruncatedSVD\n",
    "from sklearn.metrics.pairwise import cosine_similarity\n",
    "# from scipy.spatial.distance import cosine\n",
    "from scipy import stats\n",
    "# from scipy.sparse import csr_matrix\n",
    "# from collections import Counter"
   ]
  },
  {
   "cell_type": "code",
   "execution_count": 5,
   "id": "fef5d2b7-00dd-461c-b46d-99df5dd6503e",
   "metadata": {},
   "outputs": [
    {
     "name": "stdout",
     "output_type": "stream",
     "text": [
      "Archive:  diachronic_word2vec_embeddings.zip\n",
      "   creating: embeddings/\n",
      "  inflating: embeddings/data.pkl     \n",
      "   creating: __MACOSX/\n",
      "   creating: __MACOSX/embeddings/\n",
      "  inflating: __MACOSX/embeddings/._data.pkl  \n",
      "  inflating: embeddings/readme.txt   \n",
      "  inflating: __MACOSX/embeddings/._readme.txt  \n",
      "  inflating: __MACOSX/._embeddings   \n"
     ]
    }
   ],
   "source": [
    "!unzip diachronic_word2vec_embeddings.zip"
   ]
  },
  {
   "cell_type": "markdown",
   "id": "35521275-2c0c-4841-b730-0f551e28ca6b",
   "metadata": {},
   "source": [
    "# 2 Diachronic Word Embeddings"
   ]
  },
  {
   "cell_type": "markdown",
   "id": "704814c0-2bb6-4b46-9773-8072b36cb1df",
   "metadata": {},
   "source": [
    "## Step 1"
   ]
  },
  {
   "cell_type": "code",
   "execution_count": 14,
   "id": "4d8f0e2a-2b12-42e5-a9fb-bb801888a855",
   "metadata": {},
   "outputs": [],
   "source": [
    "# !unzip diachronic_word2vec_embeddings.zip"
   ]
  },
  {
   "cell_type": "code",
   "execution_count": 3,
   "id": "fcbc307a-915e-4be2-98d0-9d00b15a4f36",
   "metadata": {
    "scrolled": true,
    "tags": []
   },
   "outputs": [],
   "source": [
    "\"\"\"\n",
    "'w': a list of 2000 words, a subset of the English lexicon\n",
    "'d': a list of decades between 1900 and 2000 -> granularity of time: decade 1900-1910-...-2000\n",
    "'E': a 2000 by 10 by 300 list of list of vectors; the (i,j)-th entry is a 300-dimensional vector for the i-th word in the j-th decade\n",
    "\"\"\"\n",
    "dia_emb = pd.read_pickle(\"embeddings/data.pkl\")"
   ]
  },
  {
   "cell_type": "code",
   "execution_count": 17,
   "id": "9ae870cb-876a-472e-a7cd-e6869016651f",
   "metadata": {},
   "outputs": [],
   "source": [
    "w = dia_emb['w']\n",
    "d = dia_emb['d']\n",
    "E = dia_emb['E']"
   ]
  },
  {
   "cell_type": "markdown",
   "id": "50f465fd-b409-4d8e-a50c-c81d2171bd32",
   "metadata": {},
   "source": [
    "## Step 2 report the top 20 most and least changing words\n",
    "## Methods according to the paper presented in class\n",
    "### Method 1 Frequency-based\n",
    "- One way of tracking semantic changes is by counting raw word frequency (Hilpert & Gries, 2009) \n",
    "- or counting the frequency of a word collocating with another word over time (Heyer, Holz, & Teresniak, 2009)\n",
    "\n",
    "### Method 2 Syntax-based\n",
    "- changes in POS tags\n",
    "\n",
    "### Method 3 Distribution-based Embedding-based\n",
    "- changes in vectors?\n",
    "\n",
    "### Other Recent Methods\n",
    "- Montariol (2021) describes two measures that can be used to track semantic change over time:\n",
    "    - Inceptive drift, which computes the change of a word compared to that word at time t=0\n",
    "    - Incremental drift, which computes the change of a word from one time slice to the next\n",
    "- The cosine similarity can be calculated for a word at one time period to a predetermined list of words and the same word to the same list at the next time period to measure semantic change. "
   ]
  },
  {
   "cell_type": "markdown",
   "id": "c8cdd10a-40ae-4623-8a19-eb07fa82d7e6",
   "metadata": {},
   "source": [
    "## My Method 1: [Incremental drift] Mean Cosine Distance Per Decade Over Time "
   ]
  },
  {
   "cell_type": "code",
   "execution_count": 34,
   "id": "10871137-a4b9-4339-b85c-43671874e922",
   "metadata": {},
   "outputs": [
    {
     "name": "stdout",
     "output_type": "stream",
     "text": [
      "most_changes ['haven', 'goals', 'johnson', 'therapy', 'adams', 'wilson', 'princeton', 'martin', 'baltimore', 'wiley', 'berkeley', 'techniques', 'sector', 'ml', 'jones', 'harper', 'mcgraw', 'skills', 'computer', 'shri']\n",
      "least_changes ['april', 'miles', 'november', 'september', 'january', 'december', 'february', 'university', 'vessels', 'trees', 'cent', 'solution', 'july', 'decrease', 'october', 'temperature', 'buildings', 'june', 'patients', 'blood']\n"
     ]
    }
   ],
   "source": [
    "distances_1 = []\n",
    "for i in range(len(w)):\n",
    "    d = 0\n",
    "    for j in range(9):\n",
    "        d += 1 - cosine_similarity([np.array(E[i][j])], [np.array(E[i][j+1])])[0][0]\n",
    "    distances_1.append(d / 9)\n",
    "    \n",
    "sorted = np.argsort(distances_1)\n",
    "\n",
    "most_changes = [w[a] for a in sorted[-20:]]\n",
    "print('most_changes',most_changes)\n",
    "\n",
    "least_changes = [w[a] for a in sorted[:20]] \n",
    "print('least_changes',least_changes)"
   ]
  },
  {
   "cell_type": "markdown",
   "id": "6a21a366-a841-4156-97cf-20263650d232",
   "metadata": {},
   "source": [
    "## My Method 2: [Incremental drift] Max Cosine Distance Over Time"
   ]
  },
  {
   "cell_type": "code",
   "execution_count": 19,
   "id": "654524a2-38a3-4c43-a0a0-c5979415aab6",
   "metadata": {},
   "outputs": [
    {
     "name": "stdout",
     "output_type": "stream",
     "text": [
      "most_changes ['jones', 'radio', 'implications', 'variables', 'jobs', 'procedures', 'wiley', 'therapy', 'input', 'evaluation', 'programs', 'sector', 'objectives', 'goals', 'skills', 'shri', 'mcgraw', 'ml', 'computer', 'techniques']\n",
      "least_changes ['april', 'november', 'december', 'january', 'september', 'trees', 'miles', 'solution', 'feet', 'june', 'february', 'vessels', 'century', 'duties', 'cent', 'blood', 'evening', 'buildings', 'decrease', 'july']\n"
     ]
    }
   ],
   "source": [
    "distances_2 = []\n",
    "for i in range(len(w)):\n",
    "    d = 0\n",
    "    for j in range(9):\n",
    "        dd = 1 - cosine_similarity([np.array(E[i][j])], [np.array(E[i][j+1])])[0][0]\n",
    "        d = max(d,dd)\n",
    "    distances_2.append(d)\n",
    "\n",
    "sorted = np.argsort(distances_2)\n",
    "\n",
    "most_changes = [w[a] for a in sorted[-20:]]\n",
    "print('most_changes',most_changes)\n",
    "\n",
    "least_changes = [w[a] for a in sorted[:20]] \n",
    "print('least_changes',least_changes)"
   ]
  },
  {
   "cell_type": "markdown",
   "id": "624094dd-64a9-4de7-9162-86dc20f9cf5e",
   "metadata": {},
   "source": [
    "## My Method 3: [Inceptive drift] The Cosine Distance change between the word at the start time and at the end time"
   ]
  },
  {
   "cell_type": "code",
   "execution_count": 23,
   "id": "72054984-e8d7-45d1-804a-62ecd0c8b320",
   "metadata": {},
   "outputs": [
    {
     "name": "stdout",
     "output_type": "stream",
     "text": [
      "most_changes ['film', 'shift', 'berkeley', 'patterns', 'perspective', 'impact', 'media', 'shri', 'van', 'approach', 'goals', 'sector', 'radio', 'computer', 'objectives', 'programs', 'techniques', 'ml', 'skills', 'mcgraw']\n",
      "least_changes ['april', 'june', 'november', 'february', 'years', 'october', 'increase', 'january', 'century', 'months', 'daughter', 'december', 'god', 'september', 'feet', 'week', 'evening', 'door', 'payment', 'miles']\n"
     ]
    }
   ],
   "source": [
    "distances_3 = []\n",
    "for i in range(len(w)):\n",
    "    d = 1 - cosine_similarity(np.array([E[i][0]]), np.array([E[i][-1]]))[0][0]\n",
    "    distances_3.append(d)\n",
    "\n",
    "sorted = np.argsort(distances_3)\n",
    "\n",
    "most_changes = [w[a] for a in sorted[-20:]]\n",
    "print('most_changes',most_changes)\n",
    "\n",
    "least_changes = [w[a] for a in sorted[:20]] \n",
    "print('least_changes',least_changes)"
   ]
  },
  {
   "cell_type": "markdown",
   "id": "87c0c403-5059-4e60-bb96-f11411966931",
   "metadata": {},
   "source": [
    "## My Method 4: [Incremental drift] Min Cosine Distance Over Time¶"
   ]
  },
  {
   "cell_type": "code",
   "execution_count": 21,
   "id": "895a5ffc-aeeb-4b55-9f1c-4f4c27f19e25",
   "metadata": {},
   "outputs": [
    {
     "name": "stdout",
     "output_type": "stream",
     "text": [
      "most_changes ['necessity', 'ratio', 'measures', 'credit', 'corner', 'attitude', 'reality', 'rates', 'plants', 'staff', 'pain', 'centre', 'oxford', 'parliament', 'aspects', 'russia', 'liberty', 'news', 'establishment', 'regards']\n",
      "least_changes ['time', 'formula', 'rooms', 'film', 'equilibrium', 'colour', 'components', 'participation', 'ministers', 'blow', 'crowd', 'yield', 'berlin', 'baby', 'song', 'waste', 'sunday', 'quarters', 'leadership', 'pocket']\n"
     ]
    }
   ],
   "source": [
    "distances_4 = []\n",
    "for i in range(len(w)):\n",
    "    ddd = 0\n",
    "    for j in range(9):\n",
    "        dd =1 - cosine_similarity([np.array(E[i][j])], [np.array(E[i][j+1])])[0][0]\n",
    "        ddd = min(dd,ddd)\n",
    "    distances_4.append(ddd)\n",
    "\n",
    "sorted = np.argsort(distances_4)\n",
    "\n",
    "most_changes = [w[a] for a in sorted[-20:]]\n",
    "print('most_changes',most_changes)\n",
    "\n",
    "least_changes = [w[a] for a in sorted[:20]] \n",
    "print('least_changes',least_changes)"
   ]
  },
  {
   "cell_type": "markdown",
   "id": "38f4402e-9fe0-4e48-b3a1-2bf3800effb5",
   "metadata": {},
   "source": [
    "## Step 3. Propose and justify a procedure for evaluating the accuracy of the methods \n",
    "you have proposed in Step 2, and then evaluate the three methods following this proposed procedure\n",
    "and report Pearson correlations or relevant test statistics. [2 points]"
   ]
  },
  {
   "cell_type": "code",
   "execution_count": 29,
   "id": "243038e5-d87f-4545-88d1-9db3c83a0970",
   "metadata": {},
   "outputs": [],
   "source": [
    "most_similar = {}\n",
    "K = 10\n",
    "\n",
    "for i in range(len(w)):\n",
    "    most_similar[w[i]] = [[] for l in range(10)]\n",
    "    for j in range(10):\n",
    "        sims = []\n",
    "        matrix = np.array(E)[:,j,:]\n",
    "        indexes = np.linalg.norm((matrix - E[i][j]), axis=1).argsort()\n",
    "        sims = [w[a] for a in indexes[:K] if w[a] != w[i]]\n",
    "        most_similar[w[i]][j].extend(sims[:K])"
   ]
  },
  {
   "cell_type": "code",
   "execution_count": 31,
   "id": "a50c5ac8-bc3b-443f-9554-f3029319d2cf",
   "metadata": {},
   "outputs": [],
   "source": [
    "distances_5 = [] # \n",
    "for i in range(len(w)):\n",
    "    d = ( K - len( [a for a in most_similar[w[i]][0] if a in most_similar[w[i]][9]] ) ) / K\n",
    "    distances_5.append(d)"
   ]
  },
  {
   "cell_type": "code",
   "execution_count": 63,
   "id": "a3ab2e22-6496-4c2f-bc41-60d2b3cc82b0",
   "metadata": {},
   "outputs": [
    {
     "data": {
      "text/plain": [
       "array([[1.        , 0.84506762, 0.6932991 , 0.21989351],\n",
       "       [0.84506762, 1.        , 0.68926445, 0.23627123],\n",
       "       [0.6932991 , 0.68926445, 1.        , 0.43578751],\n",
       "       [0.21989351, 0.23627123, 0.43578751, 1.        ]])"
      ]
     },
     "execution_count": 63,
     "metadata": {},
     "output_type": "execute_result"
    }
   ],
   "source": [
    "distances = [distances_1, distances_2, distances_3, distances_5]\n",
    "array = np.ones((4,4))\n",
    "\n",
    "for i in range(4):\n",
    "    for j in range(4):\n",
    "        if i != j:\n",
    "            pr = stats.pearsonr(distances[i], distances[j])\n",
    "            array[i,j] = pr[0]\n",
    "array"
   ]
  },
  {
   "cell_type": "markdown",
   "id": "176b1401-b80b-4456-8a1c-6c4fb4df5b9c",
   "metadata": {
    "jp-MarkdownHeadingCollapsed": true,
    "tags": []
   },
   "source": [
    "### Evaluation:\n",
    "The above pearson correlation array illustrates the evaluation approach I adopted for calcaulating the accuracies of [My Method 1, 2, 3]. The *pearsonr* result shows that the best method is My Method 1.\n",
    "### Justification: \n",
    "The less correlated the distances_i (i = 1, 2, 3) is with distances_5 (the distances between the word and its most similar word), the more the method captures the semantic changes in the word over time."
   ]
  },
  {
   "cell_type": "markdown",
   "id": "84986a8c-19ff-4c29-b32d-d9a7e21d2036",
   "metadata": {
    "tags": []
   },
   "source": [
    "## Step 4. Extract the top 3 changing words using the best method from Steps 2 and 3. \n",
    "Propose and implement a simple way of detecting the point(s) of semantic change in each word based\n",
    "on its diachronic embedding time course—visualize the time course and the detected change\n",
    "point(s). [3 points]"
   ]
  },
  {
   "cell_type": "code",
   "execution_count": 28,
   "id": "8e326003-4175-42eb-9224-944cdb245c8f",
   "metadata": {},
   "outputs": [],
   "source": [
    "import matplotlib.pyplot as plt\n",
    "# import seaborns as sns"
   ]
  },
  {
   "cell_type": "code",
   "execution_count": 65,
   "id": "632d08d7-a6c6-4bc2-b1ac-0df96ee61b70",
   "metadata": {},
   "outputs": [
    {
     "name": "stdout",
     "output_type": "stream",
     "text": [
      "top_3_most_changes ['skills', 'computer', 'shri']\n"
     ]
    }
   ],
   "source": [
    "sorted = np.argsort(distances_1)\n",
    "\n",
    "top_3_most_changes = [w[a] for a in sorted[-3:]]\n",
    "\n",
    "print('top_3_most_changes', top_3_most_changes)\n",
    "\n",
    "m_distances = [[] for i in range(len(top_3_most_changes))]\n",
    "for i in range(len(top_3_most_changes)):\n",
    "    for j in range(10):\n",
    "        d = (K - len([a for a in most_similar[w[i]][j] if a in most_similar[w[i]][0]])) / K\n",
    "        m_distances[i].append(d)"
   ]
  },
  {
   "cell_type": "code",
   "execution_count": 66,
   "id": "9c6f4fe4-5483-40cc-a643-8d445de1cfff",
   "metadata": {},
   "outputs": [
    {
     "data": {
      "image/png": "[encoded data removed]",
      "text/plain": [
       "<Figure size 1000x500 with 1 Axes>"
      ]
     },
     "metadata": {},
     "output_type": "display_data"
    }
   ],
   "source": [
    "plt.figure(figsize = (10,5))\n",
    "for i in range(len(m_distances)):\n",
    "    plt.plot(m_distances[i], label=top_3_most_changes[i])\n",
    "plt.legend()\n",
    "plt.show()"
   ]
  }
 ],
 "metadata": {
  "kernelspec": {
   "display_name": "Python 3 (ipykernel)",
   "language": "python",
   "name": "python3"
  },
  "language_info": {
   "codemirror_mode": {
    "name": "ipython",
    "version": 3
   },
   "file_extension": ".py",
   "mimetype": "text/x-python",
   "name": "python",
   "nbconvert_exporter": "python",
   "pygments_lexer": "ipython3",
   "version": "3.9.7"
  }
 },
 "nbformat": 4,
 "nbformat_minor": 5
}
